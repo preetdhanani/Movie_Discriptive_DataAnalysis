{
 "cells": [
  {
   "cell_type": "code",
   "execution_count": 1,
   "id": "d075767a",
   "metadata": {},
   "outputs": [],
   "source": [
    "import pandas as pd\n",
    "import numpy as np\n",
    "import matplotlib.pyplot as plt\n"
   ]
  },
  {
   "cell_type": "code",
   "execution_count": null,
   "id": "a6908f9e",
   "metadata": {},
   "outputs": [],
   "source": [
    "\n"
   ]
  },
  {
   "cell_type": "code",
   "execution_count": 2,
   "id": "ebd0f9fa",
   "metadata": {},
   "outputs": [],
   "source": [
    "df = pd.read_csv('MoviesOnStreamingPlatforms.csv')"
   ]
  },
  {
   "cell_type": "code",
   "execution_count": 3,
   "id": "3c8d5bd6",
   "metadata": {},
   "outputs": [
    {
     "data": {
      "text/html": [
       "<div>\n",
       "<style scoped>\n",
       "    .dataframe tbody tr th:only-of-type {\n",
       "        vertical-align: middle;\n",
       "    }\n",
       "\n",
       "    .dataframe tbody tr th {\n",
       "        vertical-align: top;\n",
       "    }\n",
       "\n",
       "    .dataframe thead th {\n",
       "        text-align: right;\n",
       "    }\n",
       "</style>\n",
       "<table border=\"1\" class=\"dataframe\">\n",
       "  <thead>\n",
       "    <tr style=\"text-align: right;\">\n",
       "      <th></th>\n",
       "      <th>Unnamed: 0</th>\n",
       "      <th>ID</th>\n",
       "      <th>Title</th>\n",
       "      <th>Year</th>\n",
       "      <th>Age</th>\n",
       "      <th>Rotten Tomatoes</th>\n",
       "      <th>Netflix</th>\n",
       "      <th>Hulu</th>\n",
       "      <th>Prime Video</th>\n",
       "      <th>Disney+</th>\n",
       "      <th>Type</th>\n",
       "    </tr>\n",
       "  </thead>\n",
       "  <tbody>\n",
       "    <tr>\n",
       "      <th>0</th>\n",
       "      <td>0</td>\n",
       "      <td>1</td>\n",
       "      <td>The Irishman</td>\n",
       "      <td>2019</td>\n",
       "      <td>18+</td>\n",
       "      <td>98/100</td>\n",
       "      <td>1</td>\n",
       "      <td>0</td>\n",
       "      <td>0</td>\n",
       "      <td>0</td>\n",
       "      <td>0</td>\n",
       "    </tr>\n",
       "    <tr>\n",
       "      <th>1</th>\n",
       "      <td>1</td>\n",
       "      <td>2</td>\n",
       "      <td>Dangal</td>\n",
       "      <td>2016</td>\n",
       "      <td>7+</td>\n",
       "      <td>97/100</td>\n",
       "      <td>1</td>\n",
       "      <td>0</td>\n",
       "      <td>0</td>\n",
       "      <td>0</td>\n",
       "      <td>0</td>\n",
       "    </tr>\n",
       "    <tr>\n",
       "      <th>2</th>\n",
       "      <td>2</td>\n",
       "      <td>3</td>\n",
       "      <td>David Attenborough: A Life on Our Planet</td>\n",
       "      <td>2020</td>\n",
       "      <td>7+</td>\n",
       "      <td>95/100</td>\n",
       "      <td>1</td>\n",
       "      <td>0</td>\n",
       "      <td>0</td>\n",
       "      <td>0</td>\n",
       "      <td>0</td>\n",
       "    </tr>\n",
       "    <tr>\n",
       "      <th>3</th>\n",
       "      <td>3</td>\n",
       "      <td>4</td>\n",
       "      <td>Lagaan: Once Upon a Time in India</td>\n",
       "      <td>2001</td>\n",
       "      <td>7+</td>\n",
       "      <td>94/100</td>\n",
       "      <td>1</td>\n",
       "      <td>0</td>\n",
       "      <td>0</td>\n",
       "      <td>0</td>\n",
       "      <td>0</td>\n",
       "    </tr>\n",
       "    <tr>\n",
       "      <th>4</th>\n",
       "      <td>4</td>\n",
       "      <td>5</td>\n",
       "      <td>Roma</td>\n",
       "      <td>2018</td>\n",
       "      <td>18+</td>\n",
       "      <td>94/100</td>\n",
       "      <td>1</td>\n",
       "      <td>0</td>\n",
       "      <td>0</td>\n",
       "      <td>0</td>\n",
       "      <td>0</td>\n",
       "    </tr>\n",
       "  </tbody>\n",
       "</table>\n",
       "</div>"
      ],
      "text/plain": [
       "   Unnamed: 0  ID                                     Title  Year  Age  \\\n",
       "0           0   1                              The Irishman  2019  18+   \n",
       "1           1   2                                    Dangal  2016   7+   \n",
       "2           2   3  David Attenborough: A Life on Our Planet  2020   7+   \n",
       "3           3   4         Lagaan: Once Upon a Time in India  2001   7+   \n",
       "4           4   5                                      Roma  2018  18+   \n",
       "\n",
       "  Rotten Tomatoes  Netflix  Hulu  Prime Video  Disney+  Type  \n",
       "0          98/100        1     0            0        0     0  \n",
       "1          97/100        1     0            0        0     0  \n",
       "2          95/100        1     0            0        0     0  \n",
       "3          94/100        1     0            0        0     0  \n",
       "4          94/100        1     0            0        0     0  "
      ]
     },
     "execution_count": 3,
     "metadata": {},
     "output_type": "execute_result"
    }
   ],
   "source": [
    "df.head()"
   ]
  },
  {
   "cell_type": "code",
   "execution_count": 4,
   "id": "587aa05d",
   "metadata": {},
   "outputs": [],
   "source": [
    "df = df.drop(['Unnamed: 0'],axis=1)\n",
    "# dt.columns"
   ]
  },
  {
   "cell_type": "code",
   "execution_count": 5,
   "id": "8351832e",
   "metadata": {},
   "outputs": [
    {
     "data": {
      "text/html": [
       "<div>\n",
       "<style scoped>\n",
       "    .dataframe tbody tr th:only-of-type {\n",
       "        vertical-align: middle;\n",
       "    }\n",
       "\n",
       "    .dataframe tbody tr th {\n",
       "        vertical-align: top;\n",
       "    }\n",
       "\n",
       "    .dataframe thead th {\n",
       "        text-align: right;\n",
       "    }\n",
       "</style>\n",
       "<table border=\"1\" class=\"dataframe\">\n",
       "  <thead>\n",
       "    <tr style=\"text-align: right;\">\n",
       "      <th></th>\n",
       "      <th>ID</th>\n",
       "      <th>Title</th>\n",
       "      <th>Year</th>\n",
       "      <th>Age</th>\n",
       "      <th>Rotten Tomatoes</th>\n",
       "      <th>Netflix</th>\n",
       "      <th>Hulu</th>\n",
       "      <th>Prime Video</th>\n",
       "      <th>Disney+</th>\n",
       "      <th>Type</th>\n",
       "    </tr>\n",
       "  </thead>\n",
       "  <tbody>\n",
       "    <tr>\n",
       "      <th>0</th>\n",
       "      <td>1</td>\n",
       "      <td>The Irishman</td>\n",
       "      <td>2019</td>\n",
       "      <td>18+</td>\n",
       "      <td>98/100</td>\n",
       "      <td>1</td>\n",
       "      <td>0</td>\n",
       "      <td>0</td>\n",
       "      <td>0</td>\n",
       "      <td>0</td>\n",
       "    </tr>\n",
       "    <tr>\n",
       "      <th>1</th>\n",
       "      <td>2</td>\n",
       "      <td>Dangal</td>\n",
       "      <td>2016</td>\n",
       "      <td>7+</td>\n",
       "      <td>97/100</td>\n",
       "      <td>1</td>\n",
       "      <td>0</td>\n",
       "      <td>0</td>\n",
       "      <td>0</td>\n",
       "      <td>0</td>\n",
       "    </tr>\n",
       "    <tr>\n",
       "      <th>2</th>\n",
       "      <td>3</td>\n",
       "      <td>David Attenborough: A Life on Our Planet</td>\n",
       "      <td>2020</td>\n",
       "      <td>7+</td>\n",
       "      <td>95/100</td>\n",
       "      <td>1</td>\n",
       "      <td>0</td>\n",
       "      <td>0</td>\n",
       "      <td>0</td>\n",
       "      <td>0</td>\n",
       "    </tr>\n",
       "    <tr>\n",
       "      <th>3</th>\n",
       "      <td>4</td>\n",
       "      <td>Lagaan: Once Upon a Time in India</td>\n",
       "      <td>2001</td>\n",
       "      <td>7+</td>\n",
       "      <td>94/100</td>\n",
       "      <td>1</td>\n",
       "      <td>0</td>\n",
       "      <td>0</td>\n",
       "      <td>0</td>\n",
       "      <td>0</td>\n",
       "    </tr>\n",
       "    <tr>\n",
       "      <th>4</th>\n",
       "      <td>5</td>\n",
       "      <td>Roma</td>\n",
       "      <td>2018</td>\n",
       "      <td>18+</td>\n",
       "      <td>94/100</td>\n",
       "      <td>1</td>\n",
       "      <td>0</td>\n",
       "      <td>0</td>\n",
       "      <td>0</td>\n",
       "      <td>0</td>\n",
       "    </tr>\n",
       "  </tbody>\n",
       "</table>\n",
       "</div>"
      ],
      "text/plain": [
       "   ID                                     Title  Year  Age Rotten Tomatoes  \\\n",
       "0   1                              The Irishman  2019  18+          98/100   \n",
       "1   2                                    Dangal  2016   7+          97/100   \n",
       "2   3  David Attenborough: A Life on Our Planet  2020   7+          95/100   \n",
       "3   4         Lagaan: Once Upon a Time in India  2001   7+          94/100   \n",
       "4   5                                      Roma  2018  18+          94/100   \n",
       "\n",
       "   Netflix  Hulu  Prime Video  Disney+  Type  \n",
       "0        1     0            0        0     0  \n",
       "1        1     0            0        0     0  \n",
       "2        1     0            0        0     0  \n",
       "3        1     0            0        0     0  \n",
       "4        1     0            0        0     0  "
      ]
     },
     "execution_count": 5,
     "metadata": {},
     "output_type": "execute_result"
    }
   ],
   "source": [
    "df.head()"
   ]
  },
  {
   "cell_type": "code",
   "execution_count": 6,
   "id": "c137ee76",
   "metadata": {},
   "outputs": [
    {
     "data": {
      "text/html": [
       "<div>\n",
       "<style scoped>\n",
       "    .dataframe tbody tr th:only-of-type {\n",
       "        vertical-align: middle;\n",
       "    }\n",
       "\n",
       "    .dataframe tbody tr th {\n",
       "        vertical-align: top;\n",
       "    }\n",
       "\n",
       "    .dataframe thead th {\n",
       "        text-align: right;\n",
       "    }\n",
       "</style>\n",
       "<table border=\"1\" class=\"dataframe\">\n",
       "  <thead>\n",
       "    <tr style=\"text-align: right;\">\n",
       "      <th></th>\n",
       "      <th>ID</th>\n",
       "      <th>Year</th>\n",
       "      <th>Netflix</th>\n",
       "      <th>Hulu</th>\n",
       "      <th>Prime Video</th>\n",
       "      <th>Disney+</th>\n",
       "      <th>Type</th>\n",
       "    </tr>\n",
       "  </thead>\n",
       "  <tbody>\n",
       "    <tr>\n",
       "      <th>count</th>\n",
       "      <td>9515.000000</td>\n",
       "      <td>9515.000000</td>\n",
       "      <td>9515.000000</td>\n",
       "      <td>9515.000000</td>\n",
       "      <td>9515.000000</td>\n",
       "      <td>9515.000000</td>\n",
       "      <td>9515.0</td>\n",
       "    </tr>\n",
       "    <tr>\n",
       "      <th>mean</th>\n",
       "      <td>4758.000000</td>\n",
       "      <td>2007.422386</td>\n",
       "      <td>0.388334</td>\n",
       "      <td>0.110037</td>\n",
       "      <td>0.432265</td>\n",
       "      <td>0.096900</td>\n",
       "      <td>0.0</td>\n",
       "    </tr>\n",
       "    <tr>\n",
       "      <th>std</th>\n",
       "      <td>2746.888239</td>\n",
       "      <td>19.130367</td>\n",
       "      <td>0.487397</td>\n",
       "      <td>0.312952</td>\n",
       "      <td>0.495417</td>\n",
       "      <td>0.295837</td>\n",
       "      <td>0.0</td>\n",
       "    </tr>\n",
       "    <tr>\n",
       "      <th>min</th>\n",
       "      <td>1.000000</td>\n",
       "      <td>1914.000000</td>\n",
       "      <td>0.000000</td>\n",
       "      <td>0.000000</td>\n",
       "      <td>0.000000</td>\n",
       "      <td>0.000000</td>\n",
       "      <td>0.0</td>\n",
       "    </tr>\n",
       "    <tr>\n",
       "      <th>25%</th>\n",
       "      <td>2379.500000</td>\n",
       "      <td>2006.000000</td>\n",
       "      <td>0.000000</td>\n",
       "      <td>0.000000</td>\n",
       "      <td>0.000000</td>\n",
       "      <td>0.000000</td>\n",
       "      <td>0.0</td>\n",
       "    </tr>\n",
       "    <tr>\n",
       "      <th>50%</th>\n",
       "      <td>4758.000000</td>\n",
       "      <td>2015.000000</td>\n",
       "      <td>0.000000</td>\n",
       "      <td>0.000000</td>\n",
       "      <td>0.000000</td>\n",
       "      <td>0.000000</td>\n",
       "      <td>0.0</td>\n",
       "    </tr>\n",
       "    <tr>\n",
       "      <th>75%</th>\n",
       "      <td>7136.500000</td>\n",
       "      <td>2018.000000</td>\n",
       "      <td>1.000000</td>\n",
       "      <td>0.000000</td>\n",
       "      <td>1.000000</td>\n",
       "      <td>0.000000</td>\n",
       "      <td>0.0</td>\n",
       "    </tr>\n",
       "    <tr>\n",
       "      <th>max</th>\n",
       "      <td>9515.000000</td>\n",
       "      <td>2021.000000</td>\n",
       "      <td>1.000000</td>\n",
       "      <td>1.000000</td>\n",
       "      <td>1.000000</td>\n",
       "      <td>1.000000</td>\n",
       "      <td>0.0</td>\n",
       "    </tr>\n",
       "  </tbody>\n",
       "</table>\n",
       "</div>"
      ],
      "text/plain": [
       "                ID         Year      Netflix         Hulu  Prime Video  \\\n",
       "count  9515.000000  9515.000000  9515.000000  9515.000000  9515.000000   \n",
       "mean   4758.000000  2007.422386     0.388334     0.110037     0.432265   \n",
       "std    2746.888239    19.130367     0.487397     0.312952     0.495417   \n",
       "min       1.000000  1914.000000     0.000000     0.000000     0.000000   \n",
       "25%    2379.500000  2006.000000     0.000000     0.000000     0.000000   \n",
       "50%    4758.000000  2015.000000     0.000000     0.000000     0.000000   \n",
       "75%    7136.500000  2018.000000     1.000000     0.000000     1.000000   \n",
       "max    9515.000000  2021.000000     1.000000     1.000000     1.000000   \n",
       "\n",
       "           Disney+    Type  \n",
       "count  9515.000000  9515.0  \n",
       "mean      0.096900     0.0  \n",
       "std       0.295837     0.0  \n",
       "min       0.000000     0.0  \n",
       "25%       0.000000     0.0  \n",
       "50%       0.000000     0.0  \n",
       "75%       0.000000     0.0  \n",
       "max       1.000000     0.0  "
      ]
     },
     "execution_count": 6,
     "metadata": {},
     "output_type": "execute_result"
    }
   ],
   "source": [
    "df.describe()"
   ]
  },
  {
   "cell_type": "code",
   "execution_count": 7,
   "id": "f1043233",
   "metadata": {},
   "outputs": [],
   "source": [
    "# here the Rotten tomaten and age value is not in int formate thats why it not show up here."
   ]
  },
  {
   "cell_type": "code",
   "execution_count": 8,
   "id": "c4b91663",
   "metadata": {},
   "outputs": [
    {
     "data": {
      "text/plain": [
       "ID                    0\n",
       "Title                 0\n",
       "Year                  0\n",
       "Age                4177\n",
       "Rotten Tomatoes       7\n",
       "Netflix               0\n",
       "Hulu                  0\n",
       "Prime Video           0\n",
       "Disney+               0\n",
       "Type                  0\n",
       "dtype: int64"
      ]
     },
     "execution_count": 8,
     "metadata": {},
     "output_type": "execute_result"
    }
   ],
   "source": [
    "# First check the null values in the dataset.b\n",
    "\n",
    "df.isnull().sum()"
   ]
  },
  {
   "cell_type": "code",
   "execution_count": 9,
   "id": "70fcdd6a",
   "metadata": {},
   "outputs": [],
   "source": [
    "# Ohh the age feature has terrible amount of missing values, almost 50% but removing them not wise thing beacaue \n",
    "# it is  importan feature So, we think about this on letter stage not we should clean the data first, it is really important \n",
    "# to do further more work"
   ]
  },
  {
   "cell_type": "code",
   "execution_count": null,
   "id": "e315236c",
   "metadata": {},
   "outputs": [],
   "source": []
  },
  {
   "cell_type": "code",
   "execution_count": null,
   "id": "4cc03e5b",
   "metadata": {},
   "outputs": [],
   "source": []
  },
  {
   "cell_type": "code",
   "execution_count": 10,
   "id": "d2089f23",
   "metadata": {},
   "outputs": [],
   "source": [
    "df['Rotten Tomatoes'] = df['Rotten Tomatoes'].apply(lambda x: int(x.split('/')[0]) if isinstance(x, str) else None)"
   ]
  },
  {
   "cell_type": "code",
   "execution_count": 11,
   "id": "0062370b",
   "metadata": {},
   "outputs": [],
   "source": [
    "# not its time for Age to clean, The values is in age is string cause of + (special charecter)  so we "
   ]
  },
  {
   "cell_type": "code",
   "execution_count": 12,
   "id": "2263e0a2",
   "metadata": {},
   "outputs": [
    {
     "data": {
      "text/plain": [
       "array(['18+', '7+', '13+', '16+', 'all', nan], dtype=object)"
      ]
     },
     "execution_count": 12,
     "metadata": {},
     "output_type": "execute_result"
    }
   ],
   "source": [
    "df['Age'].unique()"
   ]
  },
  {
   "cell_type": "code",
   "execution_count": 13,
   "id": "9045a54d",
   "metadata": {},
   "outputs": [],
   "source": [
    "df['Age'].replace('all','0+',inplace=True)"
   ]
  },
  {
   "cell_type": "code",
   "execution_count": 14,
   "id": "7675ea64",
   "metadata": {},
   "outputs": [],
   "source": [
    "# here first clean the data to make string to int \n",
    "# but it is a important data.\n",
    "# ALse there is one instance alled 'all' in the data which represent all can see this show we can represent that with '0+'"
   ]
  },
  {
   "cell_type": "code",
   "execution_count": 15,
   "id": "c8e46e2a",
   "metadata": {},
   "outputs": [],
   "source": [
    "df['Age'] = df['Age'].apply(lambda x: int(x[:-1]) if isinstance(x, str) else None)\n"
   ]
  },
  {
   "cell_type": "code",
   "execution_count": 16,
   "id": "205dd31b",
   "metadata": {},
   "outputs": [
    {
     "data": {
      "text/plain": [
       "array([18.,  7., 13., 16.,  0., nan])"
      ]
     },
     "execution_count": 16,
     "metadata": {},
     "output_type": "execute_result"
    }
   ],
   "source": [
    "df[\"Age\"].unique()"
   ]
  },
  {
   "cell_type": "code",
   "execution_count": 17,
   "id": "e6337bc0",
   "metadata": {},
   "outputs": [
    {
     "data": {
      "text/plain": [
       "0       18.0\n",
       "1        7.0\n",
       "2        7.0\n",
       "3        7.0\n",
       "4       18.0\n",
       "        ... \n",
       "9510     NaN\n",
       "9511     NaN\n",
       "9512     NaN\n",
       "9513     NaN\n",
       "9514     7.0\n",
       "Name: Age, Length: 9515, dtype: float64"
      ]
     },
     "execution_count": 17,
     "metadata": {},
     "output_type": "execute_result"
    }
   ],
   "source": [
    "df[\"Age\"]"
   ]
  },
  {
   "cell_type": "code",
   "execution_count": 18,
   "id": "6fc84f62",
   "metadata": {},
   "outputs": [
    {
     "data": {
      "text/plain": [
       "Age\n",
       "18.0    2276\n",
       "7.0     1090\n",
       "13.0     998\n",
       "0.0      698\n",
       "16.0     276\n",
       "Name: count, dtype: int64"
      ]
     },
     "execution_count": 18,
     "metadata": {},
     "output_type": "execute_result"
    }
   ],
   "source": [
    "df['Age'].value_counts()"
   ]
  },
  {
   "cell_type": "code",
   "execution_count": 19,
   "id": "c420a0ce",
   "metadata": {},
   "outputs": [
    {
     "data": {
      "text/html": [
       "<div>\n",
       "<style scoped>\n",
       "    .dataframe tbody tr th:only-of-type {\n",
       "        vertical-align: middle;\n",
       "    }\n",
       "\n",
       "    .dataframe tbody tr th {\n",
       "        vertical-align: top;\n",
       "    }\n",
       "\n",
       "    .dataframe thead th {\n",
       "        text-align: right;\n",
       "    }\n",
       "</style>\n",
       "<table border=\"1\" class=\"dataframe\">\n",
       "  <thead>\n",
       "    <tr style=\"text-align: right;\">\n",
       "      <th></th>\n",
       "      <th>Age</th>\n",
       "      <th>Rotten Tomatoes</th>\n",
       "    </tr>\n",
       "  </thead>\n",
       "  <tbody>\n",
       "    <tr>\n",
       "      <th>count</th>\n",
       "      <td>5338.000000</td>\n",
       "      <td>9508.000000</td>\n",
       "    </tr>\n",
       "    <tr>\n",
       "      <th>mean</th>\n",
       "      <td>12.361933</td>\n",
       "      <td>53.545015</td>\n",
       "    </tr>\n",
       "    <tr>\n",
       "      <th>std</th>\n",
       "      <td>6.338357</td>\n",
       "      <td>13.197673</td>\n",
       "    </tr>\n",
       "    <tr>\n",
       "      <th>min</th>\n",
       "      <td>0.000000</td>\n",
       "      <td>10.000000</td>\n",
       "    </tr>\n",
       "    <tr>\n",
       "      <th>25%</th>\n",
       "      <td>7.000000</td>\n",
       "      <td>44.000000</td>\n",
       "    </tr>\n",
       "    <tr>\n",
       "      <th>50%</th>\n",
       "      <td>13.000000</td>\n",
       "      <td>52.000000</td>\n",
       "    </tr>\n",
       "    <tr>\n",
       "      <th>75%</th>\n",
       "      <td>18.000000</td>\n",
       "      <td>62.000000</td>\n",
       "    </tr>\n",
       "    <tr>\n",
       "      <th>max</th>\n",
       "      <td>18.000000</td>\n",
       "      <td>98.000000</td>\n",
       "    </tr>\n",
       "  </tbody>\n",
       "</table>\n",
       "</div>"
      ],
      "text/plain": [
       "               Age  Rotten Tomatoes\n",
       "count  5338.000000      9508.000000\n",
       "mean     12.361933        53.545015\n",
       "std       6.338357        13.197673\n",
       "min       0.000000        10.000000\n",
       "25%       7.000000        44.000000\n",
       "50%      13.000000        52.000000\n",
       "75%      18.000000        62.000000\n",
       "max      18.000000        98.000000"
      ]
     },
     "execution_count": 19,
     "metadata": {},
     "output_type": "execute_result"
    }
   ],
   "source": [
    "df.describe()[['Age','Rotten Tomatoes']]"
   ]
  },
  {
   "cell_type": "code",
   "execution_count": 20,
   "id": "a4ab4c6b",
   "metadata": {},
   "outputs": [
    {
     "data": {
      "text/plain": [
       "([<matplotlib.patches.Wedge at 0x1bae89fb640>,\n",
       "  <matplotlib.patches.Wedge at 0x1bae89fb550>,\n",
       "  <matplotlib.patches.Wedge at 0x1bae8ae26d0>,\n",
       "  <matplotlib.patches.Wedge at 0x1bae8ae2fa0>,\n",
       "  <matplotlib.patches.Wedge at 0x1bae8af18b0>],\n",
       " [Text(0.2980081321631791, 1.2653818210977323, '18+'),\n",
       "  Text(-1.0824412575459168, -0.19575730883523765, '7+'),\n",
       "  Text(-0.17853296631537738, -1.0854151187166283, '13+'),\n",
       "  Text(0.8155215679053535, -0.7381900651466357, 'All'),\n",
       "  Text(1.085519999963705, -0.17789415302026557, '16+')],\n",
       " [Text(0.18338961979272558, 0.7786965052909122, '42.6%'),\n",
       "  Text(-0.5904225041159545, -0.10677671391012962, '20.4%'),\n",
       "  Text(-0.09738161799020582, -0.59204461020907, '18.7%'),\n",
       "  Text(0.4448299461301927, -0.4026491264436194, '13.1%'),\n",
       "  Text(0.5921018181620209, -0.09703317437469029, '5.2%')])"
      ]
     },
     "execution_count": 20,
     "metadata": {},
     "output_type": "execute_result"
    },
    {
     "data": {
      "image/png": "[encoded data removed]",
      "text/plain": [
       "<Figure size 640x480 with 1 Axes>"
      ]
     },
     "metadata": {},
     "output_type": "display_data"
    }
   ],
   "source": [
    "lebels = ['18+','7+','13+','All','16+']\n",
    "explode =[0.2,0,0,0,0]\n",
    "plt.pie(df['Age'].value_counts(), labels=lebels, explode=explode, autopct='%1.1f%%', shadow=True)"
   ]
  },
  {
   "cell_type": "code",
   "execution_count": 21,
   "id": "24555347",
   "metadata": {},
   "outputs": [],
   "source": [
    "df.dropna(inplace=True)"
   ]
  },
  {
   "cell_type": "code",
   "execution_count": null,
   "id": "06a24ecc",
   "metadata": {},
   "outputs": [],
   "source": []
  },
  {
   "cell_type": "code",
   "execution_count": 22,
   "id": "a3261bca",
   "metadata": {},
   "outputs": [
    {
     "name": "stdout",
     "output_type": "stream",
     "text": [
      "t-statistic: -44.34655792141504\n",
      "p-value: 1.0319486549544553e-279\n"
     ]
    }
   ],
   "source": [
    "from scipy.stats import ttest_ind\n",
    "\n",
    "# Assuming `disney_age` and `netflix_age` are lists or arrays of age restriction values for each platform\n",
    "disney_age = list(df[df['Disney+'] ==1]['Age'])\n",
    "netflix_age = list(df[df.Netflix ==1]['Age'])\n",
    "\n",
    "# Perform a one-tailed t-test\n",
    "t_stat, p_value = ttest_ind(disney_age, netflix_age, alternative='less', equal_var=False)  # use equal_var=True if variances are equal\n",
    "\n",
    "# Display results\n",
    "print(\"t-statistic:\", t_stat)\n",
    "print(\"p-value:\", p_value)\n"
   ]
  },
  {
   "cell_type": "code",
   "execution_count": 23,
   "id": "6a2baef1",
   "metadata": {},
   "outputs": [],
   "source": [
    "## Here we have Negative t-statistic, a large negative t-statistic suggests a significant difference nevigate that,\n",
    "# where Disney+’s mean age rating is considerably lower than Netflix's mean age rating.\n",
    "\n",
    "## Here p-value is low(p<= 0.05), Thus Hypothetically Disney has low age restriction campare to Netflix."
   ]
  },
  {
   "cell_type": "code",
   "execution_count": 24,
   "id": "d411a5b1",
   "metadata": {},
   "outputs": [
    {
     "name": "stdout",
     "output_type": "stream",
     "text": [
      "t-statistic: 2.249268405929175\n",
      "p-value: 0.024662982791478848\n"
     ]
    }
   ],
   "source": [
    "# Assuming `disney_scores` and `netflix_scores` are lists or arrays of Rotten Tomatoes scores for Disney+ and Netflix movies\n",
    "disney_scores = list(df[df['Disney+'] ==1]['Rotten Tomatoes'])\n",
    "netflix_scores = list(df[df['Netflix'] ==1]['Rotten Tomatoes'])\n",
    "\n",
    "# Perform a two-tailed t-test\n",
    "t_stat, p_value = ttest_ind(disney_scores, netflix_scores, equal_var=False)  # Use equal_var=True if variances are equal\n",
    "\n",
    "# Display results\n",
    "print(\"t-statistic:\", t_stat)\n",
    "print(\"p-value:\", p_value)\n"
   ]
  },
  {
   "cell_type": "code",
   "execution_count": 25,
   "id": "7feaa588",
   "metadata": {},
   "outputs": [],
   "source": [
    "# The p-value of 0.025 is below the commonly used significance level of 0.05. Therefore,\n",
    "\n",
    "# There is statistically significant evidence to reject the null hypothesis.\n",
    "# We can conclude with 95% confidence that there is a significant difference in Rotten Tomatoes scores between \n",
    "# movies on Disney+ and Netflix."
   ]
  },
  {
   "cell_type": "code",
   "execution_count": null,
   "id": "e631c942",
   "metadata": {},
   "outputs": [],
   "source": []
  },
  {
   "cell_type": "code",
   "execution_count": null,
   "id": "ee2c4866",
   "metadata": {},
   "outputs": [],
   "source": []
  },
  {
   "cell_type": "code",
   "execution_count": 26,
   "id": "9951c785",
   "metadata": {},
   "outputs": [],
   "source": [
    "# Do movies available on one streaming platform tend to have lower age restrictions than those on another platform? \n",
    "# This will help determine whether certain platforms cater to younger audiences by offering content with \n",
    "# lower age restrictions."
   ]
  },
  {
   "cell_type": "code",
   "execution_count": 27,
   "id": "d65f4cc0",
   "metadata": {},
   "outputs": [],
   "source": [
    "# do in each movie platform's age restriction and make them plot "
   ]
  },
  {
   "cell_type": "code",
   "execution_count": null,
   "id": "e175728b",
   "metadata": {},
   "outputs": [],
   "source": []
  },
  {
   "cell_type": "code",
   "execution_count": null,
   "id": "c723038d",
   "metadata": {},
   "outputs": [],
   "source": []
  },
  {
   "cell_type": "code",
   "execution_count": null,
   "id": "4958cf20",
   "metadata": {},
   "outputs": [],
   "source": []
  },
  {
   "cell_type": "code",
   "execution_count": null,
   "id": "78b6d957",
   "metadata": {},
   "outputs": [],
   "source": []
  },
  {
   "cell_type": "code",
   "execution_count": null,
   "id": "2b7a0226",
   "metadata": {},
   "outputs": [],
   "source": []
  },
  {
   "cell_type": "code",
   "execution_count": null,
   "id": "e2590574",
   "metadata": {},
   "outputs": [],
   "source": []
  },
  {
   "cell_type": "code",
   "execution_count": 29,
   "id": "d58be6d4",
   "metadata": {},
   "outputs": [],
   "source": [
    "# are the movies on Netflix in general better than those on Disney+?\n",
    "# Use the Rotten Tomatoes score to answer this question."
   ]
  },
  {
   "cell_type": "code",
   "execution_count": 30,
   "id": "d6715714",
   "metadata": {},
   "outputs": [
    {
     "data": {
      "text/html": [
       "<div>\n",
       "<style scoped>\n",
       "    .dataframe tbody tr th:only-of-type {\n",
       "        vertical-align: middle;\n",
       "    }\n",
       "\n",
       "    .dataframe tbody tr th {\n",
       "        vertical-align: top;\n",
       "    }\n",
       "\n",
       "    .dataframe thead th {\n",
       "        text-align: right;\n",
       "    }\n",
       "</style>\n",
       "<table border=\"1\" class=\"dataframe\">\n",
       "  <thead>\n",
       "    <tr style=\"text-align: right;\">\n",
       "      <th></th>\n",
       "      <th>ID</th>\n",
       "      <th>Title</th>\n",
       "      <th>Year</th>\n",
       "      <th>Age</th>\n",
       "      <th>Rotten Tomatoes</th>\n",
       "      <th>Netflix</th>\n",
       "      <th>Hulu</th>\n",
       "      <th>Prime Video</th>\n",
       "      <th>Disney+</th>\n",
       "      <th>Type</th>\n",
       "    </tr>\n",
       "  </thead>\n",
       "  <tbody>\n",
       "    <tr>\n",
       "      <th>0</th>\n",
       "      <td>1</td>\n",
       "      <td>The Irishman</td>\n",
       "      <td>2019</td>\n",
       "      <td>18.0</td>\n",
       "      <td>98.0</td>\n",
       "      <td>1</td>\n",
       "      <td>0</td>\n",
       "      <td>0</td>\n",
       "      <td>0</td>\n",
       "      <td>0</td>\n",
       "    </tr>\n",
       "    <tr>\n",
       "      <th>1</th>\n",
       "      <td>2</td>\n",
       "      <td>Dangal</td>\n",
       "      <td>2016</td>\n",
       "      <td>7.0</td>\n",
       "      <td>97.0</td>\n",
       "      <td>1</td>\n",
       "      <td>0</td>\n",
       "      <td>0</td>\n",
       "      <td>0</td>\n",
       "      <td>0</td>\n",
       "    </tr>\n",
       "    <tr>\n",
       "      <th>2</th>\n",
       "      <td>3</td>\n",
       "      <td>David Attenborough: A Life on Our Planet</td>\n",
       "      <td>2020</td>\n",
       "      <td>7.0</td>\n",
       "      <td>95.0</td>\n",
       "      <td>1</td>\n",
       "      <td>0</td>\n",
       "      <td>0</td>\n",
       "      <td>0</td>\n",
       "      <td>0</td>\n",
       "    </tr>\n",
       "    <tr>\n",
       "      <th>3</th>\n",
       "      <td>4</td>\n",
       "      <td>Lagaan: Once Upon a Time in India</td>\n",
       "      <td>2001</td>\n",
       "      <td>7.0</td>\n",
       "      <td>94.0</td>\n",
       "      <td>1</td>\n",
       "      <td>0</td>\n",
       "      <td>0</td>\n",
       "      <td>0</td>\n",
       "      <td>0</td>\n",
       "    </tr>\n",
       "    <tr>\n",
       "      <th>4</th>\n",
       "      <td>5</td>\n",
       "      <td>Roma</td>\n",
       "      <td>2018</td>\n",
       "      <td>18.0</td>\n",
       "      <td>94.0</td>\n",
       "      <td>1</td>\n",
       "      <td>0</td>\n",
       "      <td>0</td>\n",
       "      <td>0</td>\n",
       "      <td>0</td>\n",
       "    </tr>\n",
       "    <tr>\n",
       "      <th>...</th>\n",
       "      <td>...</td>\n",
       "      <td>...</td>\n",
       "      <td>...</td>\n",
       "      <td>...</td>\n",
       "      <td>...</td>\n",
       "      <td>...</td>\n",
       "      <td>...</td>\n",
       "      <td>...</td>\n",
       "      <td>...</td>\n",
       "      <td>...</td>\n",
       "    </tr>\n",
       "    <tr>\n",
       "      <th>9503</th>\n",
       "      <td>9504</td>\n",
       "      <td>Disney My Music Story: Sukima Switch</td>\n",
       "      <td>2021</td>\n",
       "      <td>16.0</td>\n",
       "      <td>16.0</td>\n",
       "      <td>0</td>\n",
       "      <td>0</td>\n",
       "      <td>0</td>\n",
       "      <td>1</td>\n",
       "      <td>0</td>\n",
       "    </tr>\n",
       "    <tr>\n",
       "      <th>9505</th>\n",
       "      <td>9506</td>\n",
       "      <td>Great Shark Chow Down</td>\n",
       "      <td>2019</td>\n",
       "      <td>7.0</td>\n",
       "      <td>14.0</td>\n",
       "      <td>0</td>\n",
       "      <td>0</td>\n",
       "      <td>0</td>\n",
       "      <td>1</td>\n",
       "      <td>0</td>\n",
       "    </tr>\n",
       "    <tr>\n",
       "      <th>9507</th>\n",
       "      <td>9508</td>\n",
       "      <td>Texas Storm Squad</td>\n",
       "      <td>2020</td>\n",
       "      <td>13.0</td>\n",
       "      <td>14.0</td>\n",
       "      <td>0</td>\n",
       "      <td>0</td>\n",
       "      <td>0</td>\n",
       "      <td>1</td>\n",
       "      <td>0</td>\n",
       "    </tr>\n",
       "    <tr>\n",
       "      <th>9508</th>\n",
       "      <td>9509</td>\n",
       "      <td>What the Shark?</td>\n",
       "      <td>2020</td>\n",
       "      <td>13.0</td>\n",
       "      <td>14.0</td>\n",
       "      <td>0</td>\n",
       "      <td>0</td>\n",
       "      <td>0</td>\n",
       "      <td>1</td>\n",
       "      <td>0</td>\n",
       "    </tr>\n",
       "    <tr>\n",
       "      <th>9514</th>\n",
       "      <td>9515</td>\n",
       "      <td>Women of Impact: Changing the World</td>\n",
       "      <td>2019</td>\n",
       "      <td>7.0</td>\n",
       "      <td>10.0</td>\n",
       "      <td>0</td>\n",
       "      <td>0</td>\n",
       "      <td>0</td>\n",
       "      <td>1</td>\n",
       "      <td>0</td>\n",
       "    </tr>\n",
       "  </tbody>\n",
       "</table>\n",
       "<p>5338 rows × 10 columns</p>\n",
       "</div>"
      ],
      "text/plain": [
       "        ID                                     Title  Year   Age  \\\n",
       "0        1                              The Irishman  2019  18.0   \n",
       "1        2                                    Dangal  2016   7.0   \n",
       "2        3  David Attenborough: A Life on Our Planet  2020   7.0   \n",
       "3        4         Lagaan: Once Upon a Time in India  2001   7.0   \n",
       "4        5                                      Roma  2018  18.0   \n",
       "...    ...                                       ...   ...   ...   \n",
       "9503  9504      Disney My Music Story: Sukima Switch  2021  16.0   \n",
       "9505  9506                     Great Shark Chow Down  2019   7.0   \n",
       "9507  9508                         Texas Storm Squad  2020  13.0   \n",
       "9508  9509                           What the Shark?  2020  13.0   \n",
       "9514  9515       Women of Impact: Changing the World  2019   7.0   \n",
       "\n",
       "      Rotten Tomatoes  Netflix  Hulu  Prime Video  Disney+  Type  \n",
       "0                98.0        1     0            0        0     0  \n",
       "1                97.0        1     0            0        0     0  \n",
       "2                95.0        1     0            0        0     0  \n",
       "3                94.0        1     0            0        0     0  \n",
       "4                94.0        1     0            0        0     0  \n",
       "...               ...      ...   ...          ...      ...   ...  \n",
       "9503             16.0        0     0            0        1     0  \n",
       "9505             14.0        0     0            0        1     0  \n",
       "9507             14.0        0     0            0        1     0  \n",
       "9508             14.0        0     0            0        1     0  \n",
       "9514             10.0        0     0            0        1     0  \n",
       "\n",
       "[5338 rows x 10 columns]"
      ]
     },
     "execution_count": 30,
     "metadata": {},
     "output_type": "execute_result"
    }
   ],
   "source": [
    "df"
   ]
  },
  {
   "cell_type": "code",
   "execution_count": 44,
   "id": "33fcba32",
   "metadata": {},
   "outputs": [],
   "source": [
    "age=[0,7,13,16,18]\n",
    "name=['Netflix', 'Disney+','Prime Video','Hulu']"
   ]
  },
  {
   "cell_type": "code",
   "execution_count": 45,
   "id": "71c85285",
   "metadata": {},
   "outputs": [],
   "source": [
    "dic_plat={}\n",
    "for i in name:\n",
    "    dic_age={}\n",
    "    for j in age:\n",
    "        dic_age[j]= df[df[i]==1][df[df[i]==1]['Age']==j]['Rotten Tomatoes'].mean()\n",
    "    dic_plat[i] = dic_age\n"
   ]
  },
  {
   "cell_type": "code",
   "execution_count": 46,
   "id": "249b9c44",
   "metadata": {},
   "outputs": [
    {
     "data": {
      "text/plain": [
       "{'Netflix': {0: 51.84027777777778,\n",
       "  7: 58.09316770186335,\n",
       "  13: 62.32920792079208,\n",
       "  16: 58.64238410596027,\n",
       "  18: 62.28164196123147},\n",
       " 'Disney+': {0: 59.6027027027027,\n",
       "  7: 62.701438848920866,\n",
       "  13: 70.81428571428572,\n",
       "  16: 44.25,\n",
       "  18: 55.0},\n",
       " 'Prime Video': {0: 49.4625,\n",
       "  7: 52.719714964370546,\n",
       "  13: 56.90680100755667,\n",
       "  16: 49.49484536082474,\n",
       "  18: 55.321100917431195},\n",
       " 'Hulu': {0: 54.30555555555556,\n",
       "  7: 61.91836734693877,\n",
       "  13: 65.80571428571429,\n",
       "  16: 57.38461538461539,\n",
       "  18: 64.16187989556136}}"
      ]
     },
     "execution_count": 46,
     "metadata": {},
     "output_type": "execute_result"
    }
   ],
   "source": [
    "dic_plat"
   ]
  },
  {
   "cell_type": "code",
   "execution_count": 47,
   "id": "c925793c",
   "metadata": {},
   "outputs": [
    {
     "data": {
      "text/plain": [
       "Text(0, 0.5, 'Rotten Tomatoes score')"
      ]
     },
     "execution_count": 47,
     "metadata": {},
     "output_type": "execute_result"
    },
    {
     "data": {
      "image/png": "[encoded data removed]",
      "text/plain": [
       "<Figure size 700x500 with 1 Axes>"
      ]
     },
     "metadata": {},
     "output_type": "display_data"
    }
   ],
   "source": [
    "temp_df = pd.DataFrame(dic_plat)\n",
    "temp_df.plot(kind='bar', figsize=(7 ,5), width=0.5)\n",
    "plt.yticks(range(0, 101, 20)) \n",
    "plt.xlabel(\"Age\")\n",
    "plt.ylabel('Rotten Tomatoes score')"
   ]
  },
  {
   "cell_type": "code",
   "execution_count": null,
   "id": "69b6c13f",
   "metadata": {},
   "outputs": [],
   "source": []
  },
  {
   "cell_type": "code",
   "execution_count": null,
   "id": "97659fcc",
   "metadata": {},
   "outputs": [],
   "source": []
  },
  {
   "cell_type": "code",
   "execution_count": 48,
   "id": "28d0b944",
   "metadata": {},
   "outputs": [
    {
     "name": "stdout",
     "output_type": "stream",
     "text": [
      "P-value: 2.656927667628983e-212\n"
     ]
    }
   ],
   "source": [
    "import scipy.stats as stats\n",
    "\n",
    "# Example data\n",
    "disney_ages = list(df[df[\"Disney+\"]==1][\"Age\"])  # Replace with actual age ratings\n",
    "netflix_ages = list(df[df[\"Netflix\"]==1][\"Age\"])  # Replace with actual age ratings\n",
    "\n",
    "# Normality check\n",
    "disney_normal = stats.shapiro(disney_ages)\n",
    "netflix_normal = stats.shapiro(netflix_ages)\n",
    "\n",
    "# Homogeneity of variances\n",
    "levene_test = stats.levene(disney_ages, netflix_ages)\n",
    "\n",
    "# Perform t-test or Mann-Whitney U test based on assumptions\n",
    "if disney_normal.pvalue > 0.05 and netflix_normal.pvalue > 0.05:  # Normal data\n",
    "    if levene_test.pvalue > 0.05:  # Equal variances\n",
    "        t_stat, p_value = stats.ttest_ind(disney_ages, netflix_ages, alternative='less')\n",
    "    else:  # Unequal variances\n",
    "        t_stat, p_value = stats.ttest_ind(disney_ages, netflix_ages, alternative='less', equal_var=False)\n",
    "else:  # Non-normal data\n",
    "    u_stat, p_value = stats.mannwhitneyu(disney_ages, netflix_ages, alternative='less')\n",
    "\n",
    "print(\"P-value:\", p_value)\n"
   ]
  },
  {
   "cell_type": "code",
   "execution_count": 49,
   "id": "f874ce06",
   "metadata": {},
   "outputs": [],
   "source": [
    "# We typically use alpha= 0.05. This means:\n",
    "# • If p < 0.05: Reject the null hypothesis (Ho).\n",
    "# • If p > 0.05: Fail to reject the null hypothesis."
   ]
  },
  {
   "cell_type": "code",
   "execution_count": 50,
   "id": "cd09a361",
   "metadata": {},
   "outputs": [],
   "source": [
    "# Interpret Results\n",
    "# • If p < alpha, reject Ho: There is evidence that Disney+ has a lower average age restriction than\n",
    "# Netflix.\n",
    "# • If p 2 alpha, fail to reject Ho: There is no significant evidence that Disney+ has a lower average age\n",
    "# restriction than Netflix."
   ]
  },
  {
   "cell_type": "code",
   "execution_count": 52,
   "id": "1fa31683",
   "metadata": {},
   "outputs": [
    {
     "name": "stdout",
     "output_type": "stream",
     "text": [
      "P-value: 0.9924070469853369\n",
      "t-stat: 2.249268405929175\n"
     ]
    }
   ],
   "source": [
    "import scipy.stats as stats\n",
    "\n",
    "# Example data\n",
    "disney_rotten = list(df[df[\"Disney+\"]==1][\"Rotten Tomatoes\"])  # Replace with actual age ratings\n",
    "netflix_rotten = list(df[df[\"Netflix\"]==1][\"Rotten Tomatoes\"])  # Replace with actual age ratings\n",
    "\n",
    "# Normality check\n",
    "disney_normal = stats.shapiro(disney_rotten)\n",
    "netflix_normal = stats.shapiro(netflix_rotten)\n",
    "\n",
    "# Homogeneity of variances\n",
    "levene_test = stats.levene(disney_rotten, netflix_rotten)\n",
    "\n",
    "# Perform t-test or Mann-Whitney U test based on assumptions\n",
    "if disney_normal.pvalue > 0.05 and netflix_normal.pvalue > 0.05:  # Normal data\n",
    "    if levene_test.pvalue > 0.05:  # Equal variances\n",
    "        t_stat, p_value = stats.ttest_ind(disney_rotten, netflix_rotten, alternative='less')\n",
    "    else:  # Unequal variances\n",
    "        t_stat, p_value = stats.ttest_ind(disney_rotten, netflix_rotten, alternative='less', equal_var=False)\n",
    "else:  # Non-normal data\n",
    "    u_stat, p_value = stats.mannwhitneyu(disney_rotten, netflix_rotten, alternative='less')\n",
    "\n",
    "print(\"P-value:\", p_value)\n",
    "print(\"t-stat:\", t_stat)\n"
   ]
  },
  {
   "cell_type": "code",
   "execution_count": 40,
   "id": "3f3985f5",
   "metadata": {},
   "outputs": [],
   "source": [
    "# • If we use alpha = 0.05 (a common significance level):\n",
    "#     p 0.99 > 0.05, so we fail to reject the null hypothesis (Ho)."
   ]
  },
  {
   "cell_type": "code",
   "execution_count": 41,
   "id": "19a7b286",
   "metadata": {},
   "outputs": [],
   "source": [
    "# There is no significant evidence to suggest that the Rotten Tomatoes scores \n",
    "# for movies on the two platforms are different. \n",
    "# The data strongly supports the idea that their scores are statistically similar."
   ]
  },
  {
   "cell_type": "code",
   "execution_count": null,
   "id": "78604d7b",
   "metadata": {},
   "outputs": [],
   "source": []
  }
 ],
 "metadata": {
  "kernelspec": {
   "display_name": "Python [conda env:tfgpu]",
   "language": "python",
   "name": "conda-env-tfgpu-py"
  },
  "language_info": {
   "codemirror_mode": {
    "name": "ipython",
    "version": 3
   },
   "file_extension": ".py",
   "mimetype": "text/x-python",
   "name": "python",
   "nbconvert_exporter": "python",
   "pygments_lexer": "ipython3",
   "version": "3.8.19"
  }
 },
 "nbformat": 4,
 "nbformat_minor": 5
}
